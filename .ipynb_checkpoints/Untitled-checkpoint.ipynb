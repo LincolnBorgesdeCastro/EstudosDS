{
 "cells": [
  {
   "cell_type": "code",
   "execution_count": 3,
   "metadata": {
    "collapsed": false
   },
   "outputs": [
    {
     "ename": "SyntaxError",
     "evalue": "invalid syntax (<ipython-input-3-b49bc83f3e7b>, line 23)",
     "output_type": "error",
     "traceback": [
      "\u001b[1;36m  File \u001b[1;32m\"<ipython-input-3-b49bc83f3e7b>\"\u001b[1;36m, line \u001b[1;32m23\u001b[0m\n\u001b[1;33m    app.run_server()initial value\u001b[0m\n\u001b[1;37m                          ^\u001b[0m\n\u001b[1;31mSyntaxError\u001b[0m\u001b[1;31m:\u001b[0m invalid syntax\n"
     ]
    }
   ],
   "source": [
    "import dash\n",
    "from dash.dependencies import Input, Output\n",
    "import dash_core_components as dcc\n",
    "import dash_html_components as html\n",
    "\n",
    "app = dash.Dash()\n",
    "\n",
    "app.layout = html.Div([\n",
    "    dcc.Input(id='my-id', value='initial value', type='text'),\n",
    "    html.Div(id='my-div')\n",
    "])\n",
    "\n",
    "\n",
    "@app.callback(\n",
    "    Output(component_id='my-div', component_property='children'),\n",
    "    [Input(component_id='my-id', component_property='value')]\n",
    ")\n",
    "def update_output_div(input_value):\n",
    "    return 'You\\'ve entered \"{}\"'.format(input_value)\n",
    "\n",
    "\n",
    "if __name__ == '__main__':\n",
    "    app.run_server()"
   ]
  },
  {
   "cell_type": "code",
   "execution_count": null,
   "metadata": {
    "collapsed": true
   },
   "outputs": [],
   "source": [
    "import dash\n",
    "import dash_core_components as dcc\n",
    "import dash_html_components as html\n",
    "import plotly.graph_objs as go\n",
    "import pandas as pd\n",
    "\n",
    "df = pd.read_csv(\n",
    "    'https://raw.githubusercontent.com/plotly/'\n",
    "    'datasets/master/gapminderDataFiveYear.csv')\n",
    "\n",
    "app = dash.Dash()\n",
    "\n",
    "app.layout = html.Div([\n",
    "    dcc.Graph(id='graph-with-slider'),\n",
    "    dcc.Slider(\n",
    "        id='year-slider',\n",
    "        min=df['year'].min(),\n",
    "        max=df['year'].max(),\n",
    "        value=df['year'].min(),\n",
    "        step=None,\n",
    "        marks={str(year): str(year) for year in df['year'].unique()}\n",
    "    )\n",
    "])\n",
    "\n",
    "\n",
    "@app.callback(\n",
    "    dash.dependencies.Output('graph-with-slider', 'figure'),\n",
    "    [dash.dependencies.Input('year-slider', 'value')])\n",
    "def update_figure(selected_year):\n",
    "    filtered_df = df[df.year == selected_year]\n",
    "    traces = []\n",
    "    for i in filtered_df.continent.unique():\n",
    "        df_by_continent = filtered_df[filtered_df['continent'] == i]\n",
    "        traces.append(go.Scatter(\n",
    "            x=df_by_continent['gdpPercap'],\n",
    "            y=df_by_continent['lifeExp'],\n",
    "            text=df_by_continent['country'],\n",
    "            mode='markers',\n",
    "            opacity=0.7,\n",
    "            marker={\n",
    "                'size': 15,\n",
    "                'line': {'width': 0.5, 'color': 'white'}\n",
    "            },\n",
    "            name=i\n",
    "        ))\n",
    "\n",
    "    return {\n",
    "        'data': traces,\n",
    "        'layout': go.Layout(\n",
    "            xaxis={'type': 'log', 'title': 'GDP Per Capita'},\n",
    "            yaxis={'title': 'Life Expectancy', 'range': [20, 90]},\n",
    "            margin={'l': 40, 'b': 40, 't': 10, 'r': 10},\n",
    "            legend={'x': 0, 'y': 1},\n",
    "            hovermode='closest'\n",
    "        )\n",
    "    }\n",
    "\n",
    "\n",
    "if __name__ == '__main__':\n",
    "    app.run_server()"
   ]
  },
  {
   "cell_type": "code",
   "execution_count": null,
   "metadata": {
    "collapsed": true
   },
   "outputs": [],
   "source": []
  }
 ],
 "metadata": {
  "kernelspec": {
   "display_name": "Python [Root]",
   "language": "python",
   "name": "Python [Root]"
  },
  "language_info": {
   "codemirror_mode": {
    "name": "ipython",
    "version": 3
   },
   "file_extension": ".py",
   "mimetype": "text/x-python",
   "name": "python",
   "nbconvert_exporter": "python",
   "pygments_lexer": "ipython3",
   "version": "3.5.2"
  }
 },
 "nbformat": 4,
 "nbformat_minor": 2
}
