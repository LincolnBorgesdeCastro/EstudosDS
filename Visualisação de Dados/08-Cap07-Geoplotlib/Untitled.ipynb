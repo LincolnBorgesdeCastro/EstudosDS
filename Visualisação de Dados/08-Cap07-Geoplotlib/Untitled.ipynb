{
 "cells": [
  {
   "cell_type": "code",
   "execution_count": 2,
   "metadata": {
    "collapsed": false
   },
   "outputs": [
    {
     "name": "stdout",
     "output_type": "stream",
     "text": [
      "Collecting dash\n",
      "  Downloading dash-0.19.0.tar.gz\n",
      "Collecting Flask>=0.12 (from dash)\n",
      "  Downloading Flask-0.12.2-py2.py3-none-any.whl (83kB)\n",
      "Collecting flask-compress (from dash)\n",
      "  Downloading Flask-Compress-1.4.0.tar.gz\n",
      "Collecting plotly (from dash)\n",
      "  Downloading plotly-2.2.3.tar.gz (1.1MB)\n",
      "Requirement already satisfied (use --upgrade to upgrade): click>=2.0 in c:\\anaconda3\\lib\\site-packages (from Flask>=0.12->dash)\n",
      "Requirement already satisfied (use --upgrade to upgrade): itsdangerous>=0.21 in c:\\anaconda3\\lib\\site-packages (from Flask>=0.12->dash)\n",
      "Requirement already satisfied (use --upgrade to upgrade): Jinja2>=2.4 in c:\\anaconda3\\lib\\site-packages (from Flask>=0.12->dash)\n",
      "Requirement already satisfied (use --upgrade to upgrade): Werkzeug>=0.7 in c:\\anaconda3\\lib\\site-packages (from Flask>=0.12->dash)\n",
      "Requirement already satisfied (use --upgrade to upgrade): decorator>=4.0.6 in c:\\anaconda3\\lib\\site-packages (from plotly->dash)\n",
      "Collecting nbformat>=4.2 (from plotly->dash)\n",
      "  Downloading nbformat-4.4.0-py2.py3-none-any.whl (155kB)\n",
      "Requirement already satisfied (use --upgrade to upgrade): pytz in c:\\anaconda3\\lib\\site-packages (from plotly->dash)\n",
      "Requirement already satisfied (use --upgrade to upgrade): requests in c:\\anaconda3\\lib\\site-packages (from plotly->dash)\n",
      "Requirement already satisfied (use --upgrade to upgrade): six in c:\\anaconda3\\lib\\site-packages (from plotly->dash)\n",
      "Requirement already satisfied (use --upgrade to upgrade): MarkupSafe in c:\\anaconda3\\lib\\site-packages (from Jinja2>=2.4->Flask>=0.12->dash)\n",
      "Requirement already satisfied (use --upgrade to upgrade): ipython-genutils in c:\\anaconda3\\lib\\site-packages (from nbformat>=4.2->plotly->dash)\n",
      "Requirement already satisfied (use --upgrade to upgrade): jupyter-core in c:\\anaconda3\\lib\\site-packages (from nbformat>=4.2->plotly->dash)\n",
      "Requirement already satisfied (use --upgrade to upgrade): jsonschema!=2.5.0,>=2.4 in c:\\anaconda3\\lib\\site-packages (from nbformat>=4.2->plotly->dash)\n",
      "Requirement already satisfied (use --upgrade to upgrade): traitlets>=4.1 in c:\\anaconda3\\lib\\site-packages (from nbformat>=4.2->plotly->dash)\n",
      "Building wheels for collected packages: dash, flask-compress, plotly\n",
      "  Running setup.py bdist_wheel for dash: started\n",
      "  Running setup.py bdist_wheel for dash: finished with status 'done'\n",
      "  Stored in directory: C:\\Users\\86273795134\\AppData\\Local\\pip\\Cache\\wheels\\33\\07\\27\\2667c224440f042b27246d52699bb9107d065a490125e518e4\n",
      "  Running setup.py bdist_wheel for flask-compress: started\n",
      "  Running setup.py bdist_wheel for flask-compress: finished with status 'done'\n",
      "  Stored in directory: C:\\Users\\86273795134\\AppData\\Local\\pip\\Cache\\wheels\\42\\1e\\83\\8f3999abe10ae8f4f6463fd20e321b398d104c8c51b2401ca3\n",
      "  Running setup.py bdist_wheel for plotly: started\n",
      "  Running setup.py bdist_wheel for plotly: finished with status 'done'\n",
      "  Stored in directory: C:\\Users\\86273795134\\AppData\\Local\\pip\\Cache\\wheels\\2c\\4c\\ec\\eb8a05f2e5005799f802e602a47e439ae9e09844822ebc4fd0\n",
      "Successfully built dash flask-compress plotly\n",
      "Installing collected packages: Flask, flask-compress, nbformat, plotly, dash\n",
      "  Found existing installation: Flask 0.11.1\n",
      "    Uninstalling Flask-0.11.1:\n",
      "      Successfully uninstalled Flask-0.11.1\n",
      "  Found existing installation: nbformat 4.0.1\n",
      "    Uninstalling nbformat-4.0.1:\n",
      "      Successfully uninstalled nbformat-4.0.1\n",
      "Successfully installed Flask-0.12.2 dash-0.19.0 flask-compress-1.4.0 nbformat-4.4.0 plotly-2.2.3\n"
     ]
    },
    {
     "name": "stderr",
     "output_type": "stream",
     "text": [
      "    DEPRECATION: Uninstalling a distutils installed project (nbformat) has been deprecated and will be removed in a future version. This is due to the fact that uninstalling a distutils project will only partially uninstall the project.\n",
      "You are using pip version 8.1.2, however version 9.0.1 is available.\n",
      "You should consider upgrading via the 'python -m pip install --upgrade pip' command.\n"
     ]
    }
   ],
   "source": [
    "!pip install dash"
   ]
  },
  {
   "cell_type": "code",
   "execution_count": null,
   "metadata": {
    "collapsed": true
   },
   "outputs": [],
   "source": []
  }
 ],
 "metadata": {
  "kernelspec": {
   "display_name": "Python [Root]",
   "language": "python",
   "name": "Python [Root]"
  },
  "language_info": {
   "codemirror_mode": {
    "name": "ipython",
    "version": 3
   },
   "file_extension": ".py",
   "mimetype": "text/x-python",
   "name": "python",
   "nbconvert_exporter": "python",
   "pygments_lexer": "ipython3",
   "version": "3.5.2"
  }
 },
 "nbformat": 4,
 "nbformat_minor": 0
}
