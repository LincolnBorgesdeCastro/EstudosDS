{
 "cells": [
  {
   "cell_type": "markdown",
   "metadata": {},
   "source": [
    "# <font color='blue'>Data Science Academy - Visualização de Dados e Design de Dashboards</font>"
   ]
  },
  {
   "cell_type": "markdown",
   "metadata": {},
   "source": [
    "## Mapas Interativos com Geoplotlib"
   ]
  },
  {
   "cell_type": "code",
   "execution_count": null,
   "metadata": {
    "collapsed": false
   },
   "outputs": [],
   "source": [
    "!pip install pyglet"
   ]
  },
  {
   "cell_type": "code",
   "execution_count": 2,
   "metadata": {
    "collapsed": false
   },
   "outputs": [
    {
     "name": "stdout",
     "output_type": "stream",
     "text": [
      "Requirement already satisfied (use --upgrade to upgrade): geoplotlib in c:\\anaconda3\\lib\\site-packages\n"
     ]
    },
    {
     "name": "stderr",
     "output_type": "stream",
     "text": [
      "You are using pip version 8.1.2, however version 9.0.1 is available.\n",
      "You should consider upgrading via the 'python -m pip install --upgrade pip' command.\n"
     ]
    }
   ],
   "source": [
    "!pip install geoplotlib"
   ]
  },
  {
   "cell_type": "code",
   "execution_count": 5,
   "metadata": {
    "collapsed": false
   },
   "outputs": [],
   "source": [
    "import geoplotlib"
   ]
  },
  {
   "cell_type": "code",
   "execution_count": 5,
   "metadata": {
    "collapsed": false
   },
   "outputs": [
    {
     "name": "stderr",
     "output_type": "stream",
     "text": [
      "ERROR: unknown command \"upgrade\"\n",
      "\n"
     ]
    }
   ],
   "source": [
    "!pip upgrade geoplotlib"
   ]
  },
  {
   "cell_type": "code",
   "execution_count": 6,
   "metadata": {
    "collapsed": true
   },
   "outputs": [],
   "source": [
    "# Mapa de Densidade\n",
    "from geoplotlib.utils import read_csv\n",
    "\n",
    "data = read_csv('data/bus.csv')\n",
    "geoplotlib.dot(data)\n",
    "geoplotlib.show()"
   ]
  },
  {
   "cell_type": "code",
   "execution_count": 7,
   "metadata": {
    "collapsed": false
   },
   "outputs": [],
   "source": [
    "# Histograma 2D\n",
    "from geoplotlib.utils import read_csv, BoundingBox\n",
    "\n",
    "data = read_csv('data/opencellid_dk.csv')\n",
    "geoplotlib.hist(data, colorscale = 'sqrt', binsize = 8)\n",
    "geoplotlib.set_bbox(BoundingBox.DK)\n",
    "geoplotlib.show()"
   ]
  },
  {
   "cell_type": "code",
   "execution_count": 8,
   "metadata": {
    "collapsed": true
   },
   "outputs": [],
   "source": [
    "# Pontos e Labels no Mapa\n",
    "from geoplotlib.colors import colorbrewer\n",
    "from geoplotlib.utils import epoch_to_str, BoundingBox, read_csv\n",
    "\n",
    "data = read_csv('data/metro.csv')\n",
    "geoplotlib.dot(data, 'r')\n",
    "geoplotlib.labels(data, 'name', color = [0,0,255,255], font_size = 10, anchor_x = 'center')\n",
    "geoplotlib.set_bbox(BoundingBox.KBH)\n",
    "geoplotlib.show()"
   ]
  },
  {
   "cell_type": "code",
   "execution_count": 9,
   "metadata": {
    "collapsed": true
   },
   "outputs": [],
   "source": [
    "# Triangulação - delaunay\n",
    "from geoplotlib.layers import DelaunayLayer\n",
    "from geoplotlib.utils import read_csv, BoundingBox\n",
    "\n",
    "data = read_csv('data/bus.csv')\n",
    "geoplotlib.delaunay(data, cmap='hot_r')\n",
    "geoplotlib.set_bbox(BoundingBox.DK)\n",
    "geoplotlib.set_smoothing(True)\n",
    "geoplotlib.show()"
   ]
  },
  {
   "cell_type": "code",
   "execution_count": 10,
   "metadata": {
    "collapsed": true
   },
   "outputs": [],
   "source": [
    "# Spatial Graph\n",
    "from geoplotlib.utils import read_csv\n",
    "\n",
    "data = read_csv('data/flights.csv')\n",
    "geoplotlib.graph(data,\n",
    "                 src_lat = 'lat_departure',\n",
    "                 src_lon = 'lon_departure',\n",
    "                 dest_lat = 'lat_arrival',\n",
    "                 dest_lon = 'lon_arrival',\n",
    "                 color = 'hot_r',\n",
    "                 alpha = 16,\n",
    "                 linewidth = 2)\n",
    "geoplotlib.show()"
   ]
  },
  {
   "cell_type": "code",
   "execution_count": 11,
   "metadata": {
    "collapsed": false
   },
   "outputs": [
    {
     "name": "stdout",
     "output_type": "stream",
     "text": [
      "GDI+ cannot load 'C:\\\\Users\\\\86273795134/geoplotlib_tiles/positron/5/8/14.png'\n"
     ]
    },
    {
     "ename": "PermissionError",
     "evalue": "[WinError 32] O arquivo já está sendo usado por outro processo: 'C:\\\\Users\\\\86273795134/geoplotlib_tiles/positron/5/8/14.png'",
     "output_type": "error",
     "traceback": [
      "\u001b[1;31m---------------------------------------------------------------------------\u001b[0m",
      "\u001b[1;31mImageDecodeException\u001b[0m                      Traceback (most recent call last)",
      "\u001b[1;32mC:\\Anaconda3\\lib\\site-packages\\geoplotlib\\core.py\u001b[0m in \u001b[0;36mget_tile\u001b[1;34m(self, zoom, xtile, ytile)\u001b[0m\n\u001b[0;32m    876\u001b[0m             \u001b[1;32mtry\u001b[0m\u001b[1;33m:\u001b[0m\u001b[1;33m\u001b[0m\u001b[0m\n\u001b[1;32m--> 877\u001b[1;33m                 \u001b[0mtile_image\u001b[0m \u001b[1;33m=\u001b[0m \u001b[0mpyglet\u001b[0m\u001b[1;33m.\u001b[0m\u001b[0mimage\u001b[0m\u001b[1;33m.\u001b[0m\u001b[0mload\u001b[0m\u001b[1;33m(\u001b[0m\u001b[0mdownload_path\u001b[0m\u001b[1;33m)\u001b[0m\u001b[1;33m\u001b[0m\u001b[0m\n\u001b[0m\u001b[0;32m    878\u001b[0m                 \u001b[0mtile_image\u001b[0m\u001b[1;33m.\u001b[0m\u001b[0mblit\u001b[0m\u001b[1;33m(\u001b[0m\u001b[1;36m2\u001b[0m\u001b[1;33m*\u001b[0m\u001b[0mSCREEN_W\u001b[0m\u001b[1;33m,\u001b[0m \u001b[1;36m2\u001b[0m\u001b[1;33m*\u001b[0m\u001b[0mSCREEN_H\u001b[0m\u001b[1;33m,\u001b[0m \u001b[1;36m0\u001b[0m\u001b[1;33m)\u001b[0m \u001b[1;31m# blit offscreen to check if valid\u001b[0m\u001b[1;33m\u001b[0m\u001b[0m\n",
      "\u001b[1;32mC:\\Anaconda3\\lib\\site-packages\\pyglet\\image\\__init__.py\u001b[0m in \u001b[0;36mload\u001b[1;34m(filename, file, decoder)\u001b[0m\n\u001b[0;32m    204\u001b[0m                 \u001b[1;32mraise\u001b[0m \u001b[0m_codecs\u001b[0m\u001b[1;33m.\u001b[0m\u001b[0mImageDecodeException\u001b[0m\u001b[1;33m(\u001b[0m\u001b[1;34m'No image decoders are available'\u001b[0m\u001b[1;33m)\u001b[0m\u001b[1;33m\u001b[0m\u001b[0m\n\u001b[1;32m--> 205\u001b[1;33m             \u001b[1;32mraise\u001b[0m \u001b[0mfirst_exception\u001b[0m\u001b[1;33m\u001b[0m\u001b[0m\n\u001b[0m\u001b[0;32m    206\u001b[0m     \u001b[1;32mfinally\u001b[0m\u001b[1;33m:\u001b[0m\u001b[1;33m\u001b[0m\u001b[0m\n",
      "\u001b[1;32mC:\\Anaconda3\\lib\\site-packages\\pyglet\\image\\__init__.py\u001b[0m in \u001b[0;36mload\u001b[1;34m(filename, file, decoder)\u001b[0m\n\u001b[0;32m    194\u001b[0m                 \u001b[1;32mtry\u001b[0m\u001b[1;33m:\u001b[0m\u001b[1;33m\u001b[0m\u001b[0m\n\u001b[1;32m--> 195\u001b[1;33m                     \u001b[0mimage\u001b[0m \u001b[1;33m=\u001b[0m \u001b[0mdecoder\u001b[0m\u001b[1;33m.\u001b[0m\u001b[0mdecode\u001b[0m\u001b[1;33m(\u001b[0m\u001b[0mfile\u001b[0m\u001b[1;33m,\u001b[0m \u001b[0mfilename\u001b[0m\u001b[1;33m)\u001b[0m\u001b[1;33m\u001b[0m\u001b[0m\n\u001b[0m\u001b[0;32m    196\u001b[0m                     \u001b[1;32mreturn\u001b[0m \u001b[0mimage\u001b[0m\u001b[1;33m\u001b[0m\u001b[0m\n",
      "\u001b[1;32mC:\\Anaconda3\\lib\\site-packages\\pyglet\\image\\codecs\\gdiplus.py\u001b[0m in \u001b[0;36mdecode\u001b[1;34m(self, file, filename)\u001b[0m\n\u001b[0;32m    282\u001b[0m     \u001b[1;32mdef\u001b[0m \u001b[0mdecode\u001b[0m\u001b[1;33m(\u001b[0m\u001b[0mself\u001b[0m\u001b[1;33m,\u001b[0m \u001b[0mfile\u001b[0m\u001b[1;33m,\u001b[0m \u001b[0mfilename\u001b[0m\u001b[1;33m)\u001b[0m\u001b[1;33m:\u001b[0m\u001b[1;33m\u001b[0m\u001b[0m\n\u001b[1;32m--> 283\u001b[1;33m         \u001b[0mbitmap\u001b[0m \u001b[1;33m=\u001b[0m \u001b[0mself\u001b[0m\u001b[1;33m.\u001b[0m\u001b[0m_load_bitmap\u001b[0m\u001b[1;33m(\u001b[0m\u001b[0mfile\u001b[0m\u001b[1;33m,\u001b[0m \u001b[0mfilename\u001b[0m\u001b[1;33m)\u001b[0m\u001b[1;33m\u001b[0m\u001b[0m\n\u001b[0m\u001b[0;32m    284\u001b[0m         \u001b[0mimage\u001b[0m \u001b[1;33m=\u001b[0m \u001b[0mself\u001b[0m\u001b[1;33m.\u001b[0m\u001b[0m_get_image\u001b[0m\u001b[1;33m(\u001b[0m\u001b[0mbitmap\u001b[0m\u001b[1;33m)\u001b[0m\u001b[1;33m\u001b[0m\u001b[0m\n",
      "\u001b[1;32mC:\\Anaconda3\\lib\\site-packages\\pyglet\\image\\codecs\\gdiplus.py\u001b[0m in \u001b[0;36m_load_bitmap\u001b[1;34m(self, file, filename)\u001b[0m\n\u001b[0;32m    225\u001b[0m             raise ImageDecodeException(\n\u001b[1;32m--> 226\u001b[1;33m                 'GDI+ cannot load %r' % (filename or file))\n\u001b[0m\u001b[0;32m    227\u001b[0m \u001b[1;33m\u001b[0m\u001b[0m\n",
      "\u001b[1;31mImageDecodeException\u001b[0m: GDI+ cannot load 'C:\\\\Users\\\\86273795134/geoplotlib_tiles/positron/5/8/14.png'",
      "\nDuring handling of the above exception, another exception occurred:\n",
      "\u001b[1;31mPermissionError\u001b[0m                           Traceback (most recent call last)",
      "\u001b[1;32m_ctypes/callbacks.c\u001b[0m in \u001b[0;36m'calling callback function'\u001b[1;34m()\u001b[0m\n",
      "\u001b[1;32mC:\\Anaconda3\\lib\\site-packages\\pyglet\\app\\win32.py\u001b[0m in \u001b[0;36m_timer_proc_func\u001b[1;34m(self, hwnd, msg, timer, t)\u001b[0m\n\u001b[0;32m    147\u001b[0m     \u001b[1;32mdef\u001b[0m \u001b[0m_timer_proc_func\u001b[0m\u001b[1;33m(\u001b[0m\u001b[0mself\u001b[0m\u001b[1;33m,\u001b[0m \u001b[0mhwnd\u001b[0m\u001b[1;33m,\u001b[0m \u001b[0mmsg\u001b[0m\u001b[1;33m,\u001b[0m \u001b[0mtimer\u001b[0m\u001b[1;33m,\u001b[0m \u001b[0mt\u001b[0m\u001b[1;33m)\u001b[0m\u001b[1;33m:\u001b[0m\u001b[1;33m\u001b[0m\u001b[0m\n\u001b[0;32m    148\u001b[0m         \u001b[1;32mif\u001b[0m \u001b[0mself\u001b[0m\u001b[1;33m.\u001b[0m\u001b[0m_timer_func\u001b[0m\u001b[1;33m:\u001b[0m\u001b[1;33m\u001b[0m\u001b[0m\n\u001b[1;32m--> 149\u001b[1;33m             \u001b[0mself\u001b[0m\u001b[1;33m.\u001b[0m\u001b[0m_timer_func\u001b[0m\u001b[1;33m(\u001b[0m\u001b[1;33m)\u001b[0m\u001b[1;33m\u001b[0m\u001b[0m\n\u001b[0m",
      "\u001b[1;32mC:\\Anaconda3\\lib\\site-packages\\pyglet\\app\\base.py\u001b[0m in \u001b[0;36m_blocking_timer\u001b[1;34m(self)\u001b[0m\n\u001b[0;32m    244\u001b[0m \u001b[1;33m\u001b[0m\u001b[0m\n\u001b[0;32m    245\u001b[0m     \u001b[1;32mdef\u001b[0m \u001b[0m_blocking_timer\u001b[0m\u001b[1;33m(\u001b[0m\u001b[0mself\u001b[0m\u001b[1;33m)\u001b[0m\u001b[1;33m:\u001b[0m\u001b[1;33m\u001b[0m\u001b[0m\n\u001b[1;32m--> 246\u001b[1;33m         \u001b[0mtimeout\u001b[0m \u001b[1;33m=\u001b[0m \u001b[0mself\u001b[0m\u001b[1;33m.\u001b[0m\u001b[0midle\u001b[0m\u001b[1;33m(\u001b[0m\u001b[1;33m)\u001b[0m\u001b[1;33m\u001b[0m\u001b[0m\n\u001b[0m\u001b[0;32m    247\u001b[0m         \u001b[0mapp\u001b[0m\u001b[1;33m.\u001b[0m\u001b[0mplatform_event_loop\u001b[0m\u001b[1;33m.\u001b[0m\u001b[0mset_timer\u001b[0m\u001b[1;33m(\u001b[0m\u001b[0mself\u001b[0m\u001b[1;33m.\u001b[0m\u001b[0m_blocking_timer\u001b[0m\u001b[1;33m,\u001b[0m \u001b[0mtimeout\u001b[0m\u001b[1;33m)\u001b[0m\u001b[1;33m\u001b[0m\u001b[0m\n\u001b[0;32m    248\u001b[0m \u001b[1;33m\u001b[0m\u001b[0m\n",
      "\u001b[1;32mC:\\Anaconda3\\lib\\site-packages\\pyglet\\app\\base.py\u001b[0m in \u001b[0;36midle\u001b[1;34m(self)\u001b[0m\n\u001b[0;32m    279\u001b[0m             \u001b[1;32mif\u001b[0m \u001b[0mredraw_all\u001b[0m \u001b[1;32mor\u001b[0m \u001b[1;33m(\u001b[0m\u001b[0mwindow\u001b[0m\u001b[1;33m.\u001b[0m\u001b[0m_legacy_invalid\u001b[0m \u001b[1;32mand\u001b[0m \u001b[0mwindow\u001b[0m\u001b[1;33m.\u001b[0m\u001b[0minvalid\u001b[0m\u001b[1;33m)\u001b[0m\u001b[1;33m:\u001b[0m\u001b[1;33m\u001b[0m\u001b[0m\n\u001b[0;32m    280\u001b[0m                 \u001b[0mwindow\u001b[0m\u001b[1;33m.\u001b[0m\u001b[0mswitch_to\u001b[0m\u001b[1;33m(\u001b[0m\u001b[1;33m)\u001b[0m\u001b[1;33m\u001b[0m\u001b[0m\n\u001b[1;32m--> 281\u001b[1;33m                 \u001b[0mwindow\u001b[0m\u001b[1;33m.\u001b[0m\u001b[0mdispatch_event\u001b[0m\u001b[1;33m(\u001b[0m\u001b[1;34m'on_draw'\u001b[0m\u001b[1;33m)\u001b[0m\u001b[1;33m\u001b[0m\u001b[0m\n\u001b[0m\u001b[0;32m    282\u001b[0m                 \u001b[0mwindow\u001b[0m\u001b[1;33m.\u001b[0m\u001b[0mflip\u001b[0m\u001b[1;33m(\u001b[0m\u001b[1;33m)\u001b[0m\u001b[1;33m\u001b[0m\u001b[0m\n\u001b[0;32m    283\u001b[0m                 \u001b[0mwindow\u001b[0m\u001b[1;33m.\u001b[0m\u001b[0m_legacy_invalid\u001b[0m \u001b[1;33m=\u001b[0m \u001b[1;32mFalse\u001b[0m\u001b[1;33m\u001b[0m\u001b[0m\n",
      "\u001b[1;32mC:\\Anaconda3\\lib\\site-packages\\pyglet\\window\\__init__.py\u001b[0m in \u001b[0;36mdispatch_event\u001b[1;34m(self, *args)\u001b[0m\n\u001b[0;32m   1218\u001b[0m     \u001b[1;32mdef\u001b[0m \u001b[0mdispatch_event\u001b[0m\u001b[1;33m(\u001b[0m\u001b[0mself\u001b[0m\u001b[1;33m,\u001b[0m \u001b[1;33m*\u001b[0m\u001b[0margs\u001b[0m\u001b[1;33m)\u001b[0m\u001b[1;33m:\u001b[0m\u001b[1;33m\u001b[0m\u001b[0m\n\u001b[0;32m   1219\u001b[0m         \u001b[1;32mif\u001b[0m \u001b[1;32mnot\u001b[0m \u001b[0mself\u001b[0m\u001b[1;33m.\u001b[0m\u001b[0m_enable_event_queue\u001b[0m \u001b[1;32mor\u001b[0m \u001b[0mself\u001b[0m\u001b[1;33m.\u001b[0m\u001b[0m_allow_dispatch_event\u001b[0m\u001b[1;33m:\u001b[0m\u001b[1;33m\u001b[0m\u001b[0m\n\u001b[1;32m-> 1220\u001b[1;33m             \u001b[1;32mif\u001b[0m \u001b[0mEventDispatcher\u001b[0m\u001b[1;33m.\u001b[0m\u001b[0mdispatch_event\u001b[0m\u001b[1;33m(\u001b[0m\u001b[0mself\u001b[0m\u001b[1;33m,\u001b[0m \u001b[1;33m*\u001b[0m\u001b[0margs\u001b[0m\u001b[1;33m)\u001b[0m \u001b[1;33m!=\u001b[0m \u001b[1;32mFalse\u001b[0m\u001b[1;33m:\u001b[0m\u001b[1;33m\u001b[0m\u001b[0m\n\u001b[0m\u001b[0;32m   1221\u001b[0m                 \u001b[0mself\u001b[0m\u001b[1;33m.\u001b[0m\u001b[0m_legacy_invalid\u001b[0m \u001b[1;33m=\u001b[0m \u001b[1;32mTrue\u001b[0m\u001b[1;33m\u001b[0m\u001b[0m\n\u001b[0;32m   1222\u001b[0m         \u001b[1;32melse\u001b[0m\u001b[1;33m:\u001b[0m\u001b[1;33m\u001b[0m\u001b[0m\n",
      "\u001b[1;32mC:\\Anaconda3\\lib\\site-packages\\pyglet\\event.py\u001b[0m in \u001b[0;36mdispatch_event\u001b[1;34m(self, event_type, *args)\u001b[0m\n\u001b[0;32m    365\u001b[0m             \u001b[1;32mtry\u001b[0m\u001b[1;33m:\u001b[0m\u001b[1;33m\u001b[0m\u001b[0m\n\u001b[0;32m    366\u001b[0m                 \u001b[0minvoked\u001b[0m \u001b[1;33m=\u001b[0m \u001b[1;32mTrue\u001b[0m\u001b[1;33m\u001b[0m\u001b[0m\n\u001b[1;32m--> 367\u001b[1;33m                 \u001b[1;32mif\u001b[0m \u001b[0mgetattr\u001b[0m\u001b[1;33m(\u001b[0m\u001b[0mself\u001b[0m\u001b[1;33m,\u001b[0m \u001b[0mevent_type\u001b[0m\u001b[1;33m)\u001b[0m\u001b[1;33m(\u001b[0m\u001b[1;33m*\u001b[0m\u001b[0margs\u001b[0m\u001b[1;33m)\u001b[0m\u001b[1;33m:\u001b[0m\u001b[1;33m\u001b[0m\u001b[0m\n\u001b[0m\u001b[0;32m    368\u001b[0m                     \u001b[1;32mreturn\u001b[0m \u001b[0mEVENT_HANDLED\u001b[0m\u001b[1;33m\u001b[0m\u001b[0m\n\u001b[0;32m    369\u001b[0m             \u001b[1;32mexcept\u001b[0m \u001b[0mTypeError\u001b[0m\u001b[1;33m:\u001b[0m\u001b[1;33m\u001b[0m\u001b[0m\n",
      "\u001b[1;32mC:\\Anaconda3\\lib\\site-packages\\geoplotlib\\core.py\u001b[0m in \u001b[0;36mon_draw\u001b[1;34m(self)\u001b[0m\n\u001b[0;32m    204\u001b[0m \u001b[1;33m\u001b[0m\u001b[0m\n\u001b[0;32m    205\u001b[0m         \u001b[1;32mif\u001b[0m \u001b[0mself\u001b[0m\u001b[1;33m.\u001b[0m\u001b[0mshow_map\u001b[0m\u001b[1;33m:\u001b[0m\u001b[1;33m\u001b[0m\u001b[0m\n\u001b[1;32m--> 206\u001b[1;33m             \u001b[0mself\u001b[0m\u001b[1;33m.\u001b[0m\u001b[0mmap_layer\u001b[0m\u001b[1;33m.\u001b[0m\u001b[0mdraw\u001b[0m\u001b[1;33m(\u001b[0m\u001b[0mself\u001b[0m\u001b[1;33m.\u001b[0m\u001b[0mproj\u001b[0m\u001b[1;33m)\u001b[0m\u001b[1;33m\u001b[0m\u001b[0m\n\u001b[0m\u001b[0;32m    207\u001b[0m \u001b[1;33m\u001b[0m\u001b[0m\n\u001b[0;32m    208\u001b[0m             \u001b[1;32mif\u001b[0m \u001b[0mself\u001b[0m\u001b[1;33m.\u001b[0m\u001b[0mgeoplotlib_config\u001b[0m\u001b[1;33m.\u001b[0m\u001b[0mmap_alpha\u001b[0m \u001b[1;33m<\u001b[0m \u001b[1;36m255\u001b[0m\u001b[1;33m:\u001b[0m\u001b[1;33m\u001b[0m\u001b[0m\n",
      "\u001b[1;32mC:\\Anaconda3\\lib\\site-packages\\geoplotlib\\core.py\u001b[0m in \u001b[0;36mdraw\u001b[1;34m(self, proj)\u001b[0m\n\u001b[0;32m    889\u001b[0m         \u001b[1;32mfor\u001b[0m \u001b[0mx\u001b[0m \u001b[1;32min\u001b[0m \u001b[0mrange\u001b[0m\u001b[1;33m(\u001b[0m\u001b[0mint\u001b[0m\u001b[1;33m(\u001b[0m\u001b[0mproj\u001b[0m\u001b[1;33m.\u001b[0m\u001b[0mxtile\u001b[0m\u001b[1;33m)\u001b[0m\u001b[1;33m,\u001b[0m \u001b[0mint\u001b[0m\u001b[1;33m(\u001b[0m\u001b[0mproj\u001b[0m\u001b[1;33m.\u001b[0m\u001b[0mxtile\u001b[0m \u001b[1;33m+\u001b[0m \u001b[0mproj\u001b[0m\u001b[1;33m.\u001b[0m\u001b[0mtiles_horizontally\u001b[0m \u001b[1;33m+\u001b[0m \u001b[1;36m1\u001b[0m\u001b[1;33m)\u001b[0m\u001b[1;33m)\u001b[0m\u001b[1;33m:\u001b[0m\u001b[1;33m\u001b[0m\u001b[0m\n\u001b[0;32m    890\u001b[0m             \u001b[1;32mfor\u001b[0m \u001b[0my\u001b[0m \u001b[1;32min\u001b[0m \u001b[0mrange\u001b[0m\u001b[1;33m(\u001b[0m\u001b[0mint\u001b[0m\u001b[1;33m(\u001b[0m\u001b[0mproj\u001b[0m\u001b[1;33m.\u001b[0m\u001b[0mytile\u001b[0m\u001b[1;33m)\u001b[0m\u001b[1;33m,\u001b[0m \u001b[0mint\u001b[0m\u001b[1;33m(\u001b[0m\u001b[0mproj\u001b[0m\u001b[1;33m.\u001b[0m\u001b[0mytile\u001b[0m \u001b[1;33m+\u001b[0m \u001b[0mproj\u001b[0m\u001b[1;33m.\u001b[0m\u001b[0mtiles_vertically\u001b[0m \u001b[1;33m+\u001b[0m \u001b[1;36m1\u001b[0m\u001b[1;33m)\u001b[0m\u001b[1;33m)\u001b[0m\u001b[1;33m:\u001b[0m\u001b[1;33m\u001b[0m\u001b[0m\n\u001b[1;32m--> 891\u001b[1;33m                 \u001b[0mtilesurf\u001b[0m \u001b[1;33m=\u001b[0m \u001b[0mself\u001b[0m\u001b[1;33m.\u001b[0m\u001b[0mget_tile\u001b[0m\u001b[1;33m(\u001b[0m\u001b[0mproj\u001b[0m\u001b[1;33m.\u001b[0m\u001b[0mzoom\u001b[0m\u001b[1;33m,\u001b[0m \u001b[0mx\u001b[0m\u001b[1;33m,\u001b[0m \u001b[0my\u001b[0m\u001b[1;33m)\u001b[0m\u001b[1;33m\u001b[0m\u001b[0m\n\u001b[0m\u001b[0;32m    892\u001b[0m                 \u001b[1;32mif\u001b[0m \u001b[0mtilesurf\u001b[0m \u001b[1;32mis\u001b[0m \u001b[1;32mnot\u001b[0m \u001b[1;32mNone\u001b[0m\u001b[1;33m:\u001b[0m\u001b[1;33m\u001b[0m\u001b[0m\n\u001b[0;32m    893\u001b[0m                     \u001b[1;32mtry\u001b[0m\u001b[1;33m:\u001b[0m\u001b[1;33m\u001b[0m\u001b[0m\n",
      "\u001b[1;32mC:\\Anaconda3\\lib\\site-packages\\geoplotlib\\core.py\u001b[0m in \u001b[0;36mget_tile\u001b[1;34m(self, zoom, xtile, ytile)\u001b[0m\n\u001b[0;32m    882\u001b[0m                 \u001b[0mprint\u001b[0m\u001b[1;33m(\u001b[0m\u001b[0mexc\u001b[0m\u001b[1;33m)\u001b[0m\u001b[1;33m\u001b[0m\u001b[0m\n\u001b[0;32m    883\u001b[0m                 \u001b[1;32massert\u001b[0m \u001b[0mdownload_path\u001b[0m\u001b[1;33m.\u001b[0m\u001b[0mendswith\u001b[0m\u001b[1;33m(\u001b[0m\u001b[1;34m'.png'\u001b[0m\u001b[1;33m)\u001b[0m\u001b[1;33m\u001b[0m\u001b[0m\n\u001b[1;32m--> 884\u001b[1;33m                 \u001b[0mos\u001b[0m\u001b[1;33m.\u001b[0m\u001b[0munlink\u001b[0m\u001b[1;33m(\u001b[0m\u001b[0mdownload_path\u001b[0m\u001b[1;33m)\u001b[0m\u001b[1;33m\u001b[0m\u001b[0m\n\u001b[0m\u001b[0;32m    885\u001b[0m                 \u001b[1;32mreturn\u001b[0m \u001b[1;32mNone\u001b[0m\u001b[1;33m\u001b[0m\u001b[0m\n\u001b[0;32m    886\u001b[0m \u001b[1;33m\u001b[0m\u001b[0m\n",
      "\u001b[1;31mPermissionError\u001b[0m: [WinError 32] O arquivo já está sendo usado por outro processo: 'C:\\\\Users\\\\86273795134/geoplotlib_tiles/positron/5/8/14.png'"
     ]
    }
   ],
   "source": [
    "# Choropleth\n",
    "# Versão D3.js: https://bl.ocks.org/mbostock/4060606\n",
    "\n",
    "from geoplotlib.utils import BoundingBox\n",
    "from geoplotlib.colors import ColorMap\n",
    "import json\n",
    "\n",
    "\n",
    "# Taxa de desemprego através do país\n",
    "def get_color(properties):\n",
    "    key = str(int(properties['STATE'])) + properties['COUNTY']\n",
    "    if key in unemployment:\n",
    "        return cmap.to_color(unemployment.get(key), .15, 'lin')\n",
    "    else:\n",
    "        return [0, 0, 0, 0]\n",
    "\n",
    "\n",
    "with open('data/unemployment.json') as fin:\n",
    "    unemployment = json.load(fin)\n",
    "\n",
    "cmap = ColorMap('Blues', alpha=255, levels=10)\n",
    "geoplotlib.geojson('data/gz_2010_us_050_00_20m.json', fill = True, color = get_color, f_tooltip = lambda properties: properties['NAME'])\n",
    "geoplotlib.geojson('data/gz_2010_us_050_00_20m.json', fill = False, color = [255, 255, 255, 64])\n",
    "geoplotlib.set_bbox(BoundingBox.USA)\n",
    "geoplotlib.show()"
   ]
  },
  {
   "cell_type": "code",
   "execution_count": 12,
   "metadata": {
    "collapsed": false
   },
   "outputs": [],
   "source": [
    "# Interação no Mapa através do teclado\n",
    "import numpy as np\n",
    "import pyglet\n",
    "from geoplotlib.colors import create_set_cmap\n",
    "from sklearn.cluster import KMeans\n",
    "from geoplotlib.layers import BaseLayer\n",
    "from geoplotlib.core import BatchPainter\n",
    "from geoplotlib.utils import BoundingBox\n",
    "\n",
    "class KMeansLayer(BaseLayer):\n",
    "\n",
    "    def __init__(self, data):\n",
    "        self.data = data\n",
    "        self.k = 2\n",
    "\n",
    "\n",
    "    def invalidate(self, proj):\n",
    "        self.painter = BatchPainter()\n",
    "        x, y = proj.lonlat_to_screen(self.data['lon'], self.data['lat'])\n",
    "\n",
    "        k_means = KMeans(n_clusters=self.k)\n",
    "        k_means.fit(np.vstack([x,y]).T)\n",
    "        labels = k_means.labels_\n",
    "\n",
    "        self.cmap = create_set_cmap(set(labels), 'hsv')\n",
    "        for l in set(labels):\n",
    "            self.painter.set_color(self.cmap[l])\n",
    "            self.painter.convexhull(x[labels == l], y[labels == l])\n",
    "            self.painter.points(x[labels == l], y[labels == l], 2)\n",
    "    \n",
    "            \n",
    "    def draw(self, proj, mouse_x, mouse_y, ui_manager):\n",
    "        ui_manager.info('Use esquerda e direita para aumentar / diminuir o número de clusters. k = %d' % self.k)\n",
    "        self.painter.batch_draw()\n",
    "\n",
    "\n",
    "    def on_key_release(self, key, modifiers):\n",
    "        if key == pyglet.window.key.LEFT:\n",
    "            self.k = max(2,self.k - 1)\n",
    "            return True\n",
    "        elif key == pyglet.window.key.RIGHT:\n",
    "            self.k = self.k + 1\n",
    "            return True\n",
    "        return False\n",
    "  \n",
    "\n",
    "data = geoplotlib.utils.read_csv('data/bus.csv')\n",
    "geoplotlib.add_layer(KMeansLayer(data))\n",
    "geoplotlib.set_smoothing(True)\n",
    "geoplotlib.set_bbox(geoplotlib.utils.BoundingBox.DK)\n",
    "geoplotlib.show()"
   ]
  },
  {
   "cell_type": "code",
   "execution_count": 13,
   "metadata": {
    "collapsed": true
   },
   "outputs": [],
   "source": [
    "# Gráfico Animado com o percurso de um táxi\n",
    "from geoplotlib.layers import BaseLayer\n",
    "from geoplotlib.core import BatchPainter\n",
    "from geoplotlib.utils import epoch_to_str, BoundingBox, read_csv\n",
    "\n",
    "class TrailsLayer(BaseLayer):\n",
    "\n",
    "    def __init__(self):\n",
    "        self.data = read_csv('data/taxi.csv')\n",
    "        self.data = self.data.where(self.data['taxi_id'] == list(set(self.data['taxi_id']))[2])\n",
    "        self.t = self.data['timestamp'].min()\n",
    "        self.painter = BatchPainter()\n",
    "\n",
    "\n",
    "    def draw(self, proj, mouse_x, mouse_y, ui_manager):\n",
    "        self.painter = BatchPainter()\n",
    "        self.painter.set_color([0,0,255])\n",
    "        df = self.data.where((self.data['timestamp'] > self.t) & (self.data['timestamp'] <= self.t + 30*60))\n",
    "        proj.fit(BoundingBox.from_points(lons=df['lon'], lats=df['lat']), max_zoom=14)\n",
    "        x, y = proj.lonlat_to_screen(df['lon'], df['lat'])\n",
    "        self.painter.linestrip(x, y, 10)\n",
    "        self.t += 30\n",
    "        if self.t > self.data['timestamp'].max():\n",
    "            self.t = self.data['timestamp'].min()\n",
    "\n",
    "        self.painter.batch_draw()\n",
    "        ui_manager.info(epoch_to_str(self.t))\n",
    "\n",
    "\n",
    "geoplotlib.add_layer(TrailsLayer())\n",
    "geoplotlib.show()"
   ]
  },
  {
   "cell_type": "code",
   "execution_count": 14,
   "metadata": {
    "collapsed": true
   },
   "outputs": [],
   "source": [
    "# Mapa com animação das linhas do metro\n",
    "from geoplotlib.layers import BaseLayer\n",
    "from geoplotlib.core import BatchPainter\n",
    "import geoplotlib\n",
    "from geoplotlib.colors import colorbrewer\n",
    "from geoplotlib.utils import epoch_to_str, BoundingBox, read_csv\n",
    "\n",
    "\n",
    "class TrailsLayer(BaseLayer):\n",
    "\n",
    "    def __init__(self):\n",
    "        self.data = read_csv('data/taxi.csv')\n",
    "        self.cmap = colorbrewer(self.data['taxi_id'], alpha=220)\n",
    "        self.t = self.data['timestamp'].min()\n",
    "        self.painter = BatchPainter()\n",
    "\n",
    "\n",
    "    def draw(self, proj, mouse_x, mouse_y, ui_manager):\n",
    "        self.painter = BatchPainter()\n",
    "        df = self.data.where((self.data['timestamp'] > self.t) & (self.data['timestamp'] <= self.t + 15*60))\n",
    "\n",
    "        for taxi_id in set(df['taxi_id']):\n",
    "            grp = df.where(df['taxi_id'] == taxi_id)\n",
    "            self.painter.set_color(self.cmap[taxi_id])\n",
    "            x, y = proj.lonlat_to_screen(grp['lon'], grp['lat'])\n",
    "            self.painter.points(x, y, 10)\n",
    "\n",
    "        self.t += 2*60\n",
    "\n",
    "        if self.t > self.data['timestamp'].max():\n",
    "            self.t = self.data['timestamp'].min()\n",
    "\n",
    "        self.painter.batch_draw()\n",
    "        ui_manager.info(epoch_to_str(self.t))\n",
    "\n",
    "\n",
    "    def bbox(self):\n",
    "        return BoundingBox(north=40.110222, west=115.924463, south=39.705711, east=116.803369)\n",
    "\n",
    "\n",
    "geoplotlib.add_layer(TrailsLayer())\n",
    "geoplotlib.show()"
   ]
  },
  {
   "cell_type": "code",
   "execution_count": null,
   "metadata": {
    "collapsed": false
   },
   "outputs": [
    {
     "name": "stdout",
     "output_type": "stream",
     "text": [
      "0 9904\n",
      "0 100561\n"
     ]
    }
   ],
   "source": [
    "# Quadtree\n",
    "import numpy as np\n",
    "from geoplotlib.layers import BaseLayer\n",
    "from geoplotlib.core import BatchPainter\n",
    "from geoplotlib.utils import BoundingBox\n",
    "\n",
    "\n",
    "class QuadTree:\n",
    "\n",
    "    def __init__(self, left, right, top, bottom):\n",
    "        self.left = left\n",
    "        self.right = right\n",
    "        self.top = top\n",
    "        self.bottom = bottom\n",
    "\n",
    "\n",
    "    def split(self):\n",
    "        middle_x = (self.left + self.right) / 2.\n",
    "        middle_y = (self.top + self.bottom) / 2.\n",
    "        return [QuadTree(self.left, middle_x, self.top, middle_y),\n",
    "                QuadTree(middle_x, self.right, self.top, middle_y),\n",
    "                QuadTree(self.left, middle_x, middle_y, self.bottom),\n",
    "                QuadTree(middle_x, self.right, middle_y, self.bottom)]\n",
    "\n",
    "\n",
    "    def can_split(self, x, y):\n",
    "        if self.right - self.left < 4:\n",
    "            return False\n",
    "\n",
    "        mask = (x > self.left) & (x < self.right) & (y > self.bottom) & (y < self.top)\n",
    "        return mask.any()\n",
    "\n",
    "\n",
    "    def __repr__(self):\n",
    "        return '(%.2f,%.2f,%.2f,%.2f)' % (self.left, self.right, self.top, self.bottom)\n",
    "\n",
    "\n",
    "class QuadsLayer(BaseLayer):\n",
    "\n",
    "    def __init__(self, data, cmap='hot_r'):\n",
    "        self.data = data\n",
    "        if cmap is not None:\n",
    "            self.cmap = geoplotlib.colors.ColorMap(cmap, alpha=196)\n",
    "        else:\n",
    "            self.cmap = None\n",
    "            \n",
    "\n",
    "    def invalidate(self, proj):\n",
    "        self.painter = BatchPainter()\n",
    "        x, y = proj.lonlat_to_screen(self.data['lon'], self.data['lat'])\n",
    "        \n",
    "        w = x.max() - x.min()\n",
    "        h = y.max() - y.min()\n",
    "        w = np.ceil(w / 2) * 2\n",
    "        h = np.ceil(h / 2) * 2\n",
    "        l = max(w, h)\n",
    "        \n",
    "        root = QuadTree(x.min(), x.min() + l, y.min() + l, y.min())\n",
    "        maxarea = (root.right - root.left) * (root.top - root.bottom)\n",
    "        queue = [root]\n",
    "        done = []\n",
    "        while len(queue) > 0:\n",
    "            qt = queue.pop()\n",
    "            if qt.can_split(x, y):\n",
    "                queue.extend(qt.split())\n",
    "            else:\n",
    "                done.append(qt)\n",
    "        \n",
    "        print (len(queue), len(done))\n",
    "\n",
    "        if self.cmap is not None:\n",
    "            for qt in done:\n",
    "                area = (qt.right - qt.left) * (qt.top - qt.bottom)\n",
    "                self.painter.set_color(self.cmap.to_color(1 + area, 1 + maxarea, 'log'))\n",
    "                self.painter.rect(qt.left, qt.top, qt.right, qt.bottom)\n",
    "        else:\n",
    "            for qt in done:\n",
    "                self.painter.linestrip([qt.left, qt.right, qt.right, qt.left],\n",
    "                                       [qt.top, qt.top, qt.bottom, qt.bottom], closed=True)\n",
    "    \n",
    "            \n",
    "    def draw(self, proj, mouse_x, mouse_y, ui_manager):\n",
    "        self.painter.batch_draw()\n",
    "  \n",
    "\n",
    "data = geoplotlib.utils.read_csv('data/bus.csv')\n",
    "geoplotlib.add_layer(QuadsLayer(data, cmap=None))\n",
    "geoplotlib.set_smoothing(False)\n",
    "geoplotlib.set_bbox(geoplotlib.utils.BoundingBox.DK)\n",
    "geoplotlib.show()"
   ]
  },
  {
   "cell_type": "markdown",
   "metadata": {},
   "source": [
    "## FIM"
   ]
  }
 ],
 "metadata": {
  "anaconda-cloud": {},
  "kernelspec": {
   "display_name": "Python [Root]",
   "language": "python",
   "name": "Python [Root]"
  },
  "language_info": {
   "codemirror_mode": {
    "name": "ipython",
    "version": 3
   },
   "file_extension": ".py",
   "mimetype": "text/x-python",
   "name": "python",
   "nbconvert_exporter": "python",
   "pygments_lexer": "ipython3",
   "version": "3.5.2"
  }
 },
 "nbformat": 4,
 "nbformat_minor": 1
}
